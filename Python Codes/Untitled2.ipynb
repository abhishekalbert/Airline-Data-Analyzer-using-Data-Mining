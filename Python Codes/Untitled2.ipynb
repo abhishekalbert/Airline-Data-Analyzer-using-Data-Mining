{
 "metadata": {
  "name": "",
  "signature": "sha256:1b2400b379e8920e0aa6061e92e9cd24c52cafda7a0349568949d9c59aa51ae9"
 },
 "nbformat": 3,
 "nbformat_minor": 0,
 "worksheets": [
  {
   "cells": [
    {
     "cell_type": "code",
     "collapsed": false,
     "input": [
      "from __future__ import division\n",
      "%matplotlib inline\n",
      "import matplotlib.pyplot as plt\n",
      "import numpy as np\n",
      "from pylab import figure, show\n",
      "from pandas import DataFrame, Series\n",
      "import pandas as pd\n",
      "import csv\n",
      "import os\n",
      "import statsmodels.formula.api as smf\n",
      "import scipy.stats as stats\n",
      "import statsmodels.api as sm\n",
      "from IPython.core.display import HTML\n",
      "from bokeh.plotting import *\n",
      "import seaborn as sns\n",
      "from bokeh.objects import ColumnDataSource, Range1d\n",
      "from math import floor\n",
      "import bokeh as bokeh\n",
      "import sys\n",
      "import csv\n",
      "import datetime"
     ],
     "language": "python",
     "metadata": {},
     "outputs": [],
     "prompt_number": 8
    },
    {
     "cell_type": "code",
     "collapsed": false,
     "input": [
      "\n",
      "TIME_DELTA = 3\n",
      "\n",
      "# for arg in sys.argv:\n",
      "# \tif(arg != 'date_graph.py'):\n",
      "# \t\tstart_date = datetime.datetime.strptime(arg, '%m-%d-%y')\n",
      "# \t\tstart_date = datetime.date(start_date.year, start_date.month, start_date.day)\n",
      "\n",
      "start_date = datetime.datetime.strptime('05-08-08', '%m-%d-%y')\n",
      "print start_date\n",
      "\n",
      "delta = datetime.timedelta(days=TIME_DELTA)\n",
      "begin = start_date - delta\n",
      "end = start_date + delta\n",
      "\n",
      "SFO_Hash = {}\n",
      "OAK_Hash = {}\n",
      "SFO_count = 0\n",
      "OAK_count = 0\n",
      "with open('C:\\\\data\\\\airline\\\\_dfTest2008.csv', 'r') as data:\n",
      "\tcsv_reader = csv.reader(data, delimiter=',')\n",
      "\tfor row in csv_reader:\n",
      "\t\tif(row[0] != 'Year'):\n",
      "\t\t\tyear = int(row[0])\n",
      "\t\t\tmonth = int(row[1])\n",
      "\t\t\tdate = int(row[2])\n",
      "\t\t\tcurr_date = datetime.datetime(year, month, date)\n",
      "\t\t\tif(curr_date >= begin and curr_date <= end):\n",
      "\t\t\t\torigin = row[7]\n",
      "\t\t\t\tif(origin == '270'):\n",
      "\t\t\t\t\tlabel = int(row[10])\n",
      "\t\t\t\t\tSFO_count += 1\n",
      "\t\t\t\t\tif(curr_date not in SFO_Hash):\n",
      "\t\t\t\t\t\tSFO_Hash[curr_date] = [label]\n",
      "\t\t\t\t\telse:\n",
      "\t\t\t\t\t\tSFO_Hash[curr_date].append(label)\t\n",
      "\t\t\t\tif(origin == '215'):\n",
      "\t\t\t\t\tlabel = int(row[10])\n",
      "\t\t\t\t\tOAK_count += 1\n",
      "\t\t\t\t\tif(curr_date not in OAK_Hash):\n",
      "\t\t\t\t\t\tOAK_Hash[curr_date] = [label]\n",
      "\t\t\t\t\telse:\n",
      "\t\t\t\t\t\tOAK_Hash[curr_date].append(label)\n",
      "\n",
      "iterator = datetime.timedelta(days=1)\n",
      "day_values = []\n",
      "SFO_Delays = []\n",
      "SFO_On_Time = []\n",
      "SFO_Flights = []\n",
      "SFO_Pct = []\n",
      "OAK_Delays = []\n",
      "OAK_On_Time = []\n",
      "OAK_Flights = []\n",
      "OAK_Pct = []\n",
      "\n",
      "while begin <= end:\n",
      "\tif(begin not in SFO_Hash):\n",
      "\t\tSFO_Delays.append(0)\n",
      "\t\tSFO_On_Time.append(0)\n",
      "\t\tSFO_Pct.append(0.00)\n",
      "\telse:\n",
      "\t\tSFO_Flights = SFO_Hash[begin]\n",
      "\t\tdelays = sum(SFO_Flights)\n",
      "\t\tnum_flights = len(SFO_Flights)\n",
      "\t\tpct = float(delays) / (num_flights + delays)\n",
      "\t\tSFO_Delays.append(delays)\n",
      "\t\tSFO_On_Time.append(num_flights - delays)\n",
      "\t\tSFO_Pct.append(pct)\n",
      "\t\n",
      "\tif(begin not in OAK_Hash):\n",
      "\t\tOAK_Delays.append(0)\n",
      "\t\tOAK_On_Time.append(0)\n",
      "\t\tOAK_Pct.append(0.00)\n",
      "\telse:\n",
      "\t\tOAK_Flights = OAK_Hash[begin]\n",
      "\t\tdelays = sum(OAK_Flights)\n",
      "\t\tnum_flights = len(OAK_Flights)\n",
      "\t\tpct = float(delays) / (num_flights + delays)\n",
      "\t\tOAK_Delays.append(delays)\n",
      "\t\tOAK_On_Time.append(num_flights - delays)\n",
      "\t\tOAK_Pct.append(pct)\n",
      "\t\n",
      "\tday_values.append(begin)\n",
      "\tbegin += iterator\n",
      "\n",
      "print SFO_Pct\n",
      "print OAK_Pct"
     ],
     "language": "python",
     "metadata": {},
     "outputs": [
      {
       "output_type": "stream",
       "stream": "stdout",
       "text": [
        "2008-05-08 00:00:00\n",
        "[0.22568093385214008, 0.23976608187134502, 0.2556390977443609, 0.2560747663551402, 0.263254113345521, 0.2478448275862069, 0.30275229357798167]"
       ]
      },
      {
       "output_type": "stream",
       "stream": "stdout",
       "text": [
        "\n",
        "[0.24793388429752067, 0.24680851063829787, 0.2697095435684647, 0.27058823529411763, 0.28185328185328185, 0.2613065326633166, 0.3004115226337449]\n"
       ]
      }
     ],
     "prompt_number": 4
    },
    {
     "cell_type": "code",
     "collapsed": false,
     "input": [
      "print \"Xastart_date"
     ],
     "language": "python",
     "metadata": {},
     "outputs": []
    },
    {
     "cell_type": "code",
     "collapsed": false,
     "input": [
      "plt.title('Probability of Flight Delays at SFO vs. OAK Given Specific Date and +/- 3 Days')\n",
      "\n",
      "ax1 = plt.subplot(211)\n",
      "#ax1.bar(day_values, SFO_Delays, bottom = SFO_On_Time, color = 'red')\n",
      "#ax1.bar(day_values, SFO_On_Time, color = 'blue')\n",
      "ax1.set_xticklabels([start_date - delta, '', '', start_date, '', '', start_date + delta], rotation = 45)\n",
      "ax1.text(start_date, 250, 'Test', fontsize=15)\n",
      "ax1.set_yticks([0, 200, 450])\n",
      "ax1.set_title('On-Time Flights (Blue) and Delayed Flights (Red) at SFO')\n",
      "\n",
      "ax2 = plt.subplot(212)\n",
      "#ax2.bar(day_values, OAK_Delays, bottom = OAK_On_Time, color = 'red')\n",
      "#ax2.bar(day_values, OAK_On_Time, color = 'blue')\n",
      "ax2.set_xticklabels([start_date - delta, '', '', start_date, '', '', start_date + delta], rotation = 45)\n",
      "ax1.text(start_date, 250, 'Test', fontsize=15)\n",
      "ax2.set_yticks([0, 200, 450])\n",
      "ax2.set_title('On-Time Flights (Blue) and Delayed Flights (Red) at OAK')\n",
      "plt.show()"
     ],
     "language": "python",
     "metadata": {},
     "outputs": [
      {
       "metadata": {},
       "output_type": "display_data",
       "text": [
        "<matplotlib.figure.Figure at 0x15540438>"
       ]
      }
     ],
     "prompt_number": 7
    }
   ],
   "metadata": {}
  }
 ]
}