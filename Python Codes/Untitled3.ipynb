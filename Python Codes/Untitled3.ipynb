{
 "metadata": {
  "name": "",
  "signature": "sha256:031ca17ee61cac7bd08fe8ab3ae6483d1d50fa877d9854dd990c6a20c6555fcd"
 },
 "nbformat": 3,
 "nbformat_minor": 0,
 "worksheets": [
  {
   "cells": [
    {
     "cell_type": "code",
     "collapsed": false,
     "input": [
      "import numpy as np\n",
      "from matplotlib import pyplot as plt\n",
      "from __future__ import division\n",
      "%matplotlib inline\n",
      "import matplotlib.pyplot as plt\n",
      "import numpy as np\n",
      "from pylab import figure, show\n",
      "from pandas import DataFrame, Series\n",
      "import pandas as pd\n",
      "import csv\n",
      "import os\n",
      "import statsmodels.formula.api as smf\n",
      "import scipy.stats as stats\n",
      "import statsmodels.api as sm\n",
      "from IPython.core.display import HTML\n",
      "from bokeh.plotting import *\n",
      "import seaborn as sns\n",
      "from bokeh.objects import ColumnDataSource, Range1d\n",
      "from math import floor\n",
      "import bokeh as bokeh\n",
      "import sys\n",
      "import csv\n",
      "import datetime"
     ],
     "language": "python",
     "metadata": {},
     "outputs": [],
     "prompt_number": 2
    },
    {
     "cell_type": "code",
     "collapsed": false,
     "input": [
      "TIME_DELTA = 3\n",
      "\n",
      "# for arg in sys.argv:\n",
      "# \tif(arg != 'date_graph.py'):\n",
      "# \t\tstart_date = datetime.datetime.strptime(arg, '%m-%d-%y')\n",
      "# \t\tstart_date = datetime.date(start_date.year, start_date.month, start_date.day)\n",
      "\n",
      "start_date = datetime.datetime.strptime('05-08-08', '%m-%d-%y')\n",
      "print start_date\n",
      "\n",
      "delta = datetime.timedelta(days=TIME_DELTA)\n",
      "begin = start_date - delta\n",
      "end = start_date + delta\n",
      "\n",
      "SFO_Hash = {}\n",
      "OAK_Hash = {}\n",
      "SFO_count = 0\n",
      "OAK_count = 0\n",
      "with open('C:\\\\data\\\\airline\\\\_dfTest2008.csv', 'r') as data:\n",
      "\tcsv_reader = csv.reader(data, delimiter=',')\n",
      "\tfor row in csv_reader:\n",
      "\t\tif(row[0] != 'Year'):\n",
      "\t\t\tyear = int(row[0])\n",
      "\t\t\tmonth = int(row[1])\n",
      "\t\t\tdate = int(row[2])\n",
      "\t\t\tcurr_date = datetime.datetime(year, month, date)\n",
      "\t\t\tif(curr_date >= begin and curr_date <= end):\n",
      "\t\t\t\torigin = row[7]\n",
      "\t\t\t\tif(origin == '270'):\n",
      "\t\t\t\t\tlabel = int(row[10])\n",
      "\t\t\t\t\tSFO_count += 1\n",
      "\t\t\t\t\tif(curr_date not in SFO_Hash):\n",
      "\t\t\t\t\t\tSFO_Hash[curr_date] = [label]\n",
      "\t\t\t\t\telse:\n",
      "\t\t\t\t\t\tSFO_Hash[curr_date].append(label)\t\n",
      "\t\t\t\tif(origin == '215'):\n",
      "\t\t\t\t\tlabel = int(row[10])\n",
      "\t\t\t\t\tOAK_count += 1\n",
      "\t\t\t\t\tif(curr_date not in OAK_Hash):\n",
      "\t\t\t\t\t\tOAK_Hash[curr_date] = [label]\n",
      "\t\t\t\t\telse:\n",
      "\t\t\t\t\t\tOAK_Hash[curr_date].append(label)\n",
      "\n",
      "iterator = datetime.timedelta(days=1)\n",
      "day_values = []\n",
      "SFO_Delays = []\n",
      "SFO_On_Time = []\n",
      "SFO_Flights = []\n",
      "SFO_Pct = []\n",
      "OAK_Delays = []\n",
      "OAK_On_Time = []\n",
      "OAK_Flights = []\n",
      "OAK_Pct = []\n",
      "\n",
      "while begin <= end:\n",
      "\tif(begin not in SFO_Hash):\n",
      "\t\tSFO_Delays.append(0)\n",
      "\t\tSFO_On_Time.append(0)\n",
      "\t\tSFO_Pct.append(0.00)\n",
      "\telse:\n",
      "\t\tSFO_Flights = SFO_Hash[begin]\n",
      "\t\tdelays = sum(SFO_Flights)\n",
      "\t\tnum_flights = len(SFO_Flights)\n",
      "\t\tpct = float(delays) / (num_flights + delays)\n",
      "\t\tSFO_Delays.append(delays)\n",
      "\t\tSFO_On_Time.append(num_flights - delays)\n",
      "\t\tSFO_Pct.append(pct)\n",
      "\t\n",
      "\tif(begin not in OAK_Hash):\n",
      "\t\tOAK_Delays.append(0)\n",
      "\t\tOAK_On_Time.append(0)\n",
      "\t\tOAK_Pct.append(0.00)\n",
      "\telse:\n",
      "\t\tOAK_Flights = OAK_Hash[begin]\n",
      "\t\tdelays = sum(OAK_Flights)\n",
      "\t\tnum_flights = len(OAK_Flights)\n",
      "\t\tpct = float(delays) / (num_flights + delays)\n",
      "\t\tOAK_Delays.append(delays)\n",
      "\t\tOAK_On_Time.append(num_flights - delays)\n",
      "\t\tOAK_Pct.append(pct)\n",
      "\t\n",
      "\tday_values.append(begin)\n",
      "\tbegin += iterator\n",
      "\n",
      "print SFO_Pct\n",
      "print OAK_Pct"
     ],
     "language": "python",
     "metadata": {},
     "outputs": [
      {
       "output_type": "stream",
       "stream": "stdout",
       "text": [
        "2008-05-08 00:00:00\n",
        "[0.22568093385214008, 0.23976608187134502, 0.2556390977443609, 0.2560747663551402, 0.263254113345521, 0.2478448275862069, 0.30275229357798167]"
       ]
      },
      {
       "output_type": "stream",
       "stream": "stdout",
       "text": [
        "\n",
        "[0.24793388429752067, 0.24680851063829787, 0.2697095435684647, 0.27058823529411763, 0.28185328185328185, 0.2613065326633166, 0.3004115226337449]\n"
       ]
      }
     ],
     "prompt_number": 3
    },
    {
     "cell_type": "code",
     "collapsed": false,
     "input": [
      "fnx = lambda : np.random.randint(5, 50, 10)\n",
      "y = np.row_stack((fnx(), fnx(), fnx()))\n",
      "x = np.arange(10)\n",
      "\n",
      "# Make new array consisting of fractions of column-totals,\n",
      "# using .astype(float) to avoid integer division\n",
      "percent = y /  y.sum(axis=0).astype(float) * 100 \n",
      "\n",
      "fig = plt.figure()\n",
      "ax = fig.add_subplot(111)\n",
      "\n",
      "ax.stackplot(x, percent)\n",
      "ax.set_title('100 % stacked area chart')\n",
      "ax.set_ylabel('Percent (%)')\n",
      "ax.margins(0, 0) # Set margins to avoid \"whitespace\"\n",
      "\n",
      "plt.show()"
     ],
     "language": "python",
     "metadata": {},
     "outputs": [
      {
       "metadata": {},
       "output_type": "display_data",
       "png": "[encoded data removed]",
       "text": [
        "<matplotlib.figure.Figure at 0x16448be0>"
       ]
      }
     ],
     "prompt_number": 1
    }
   ],
   "metadata": {}
  }
 ]
}