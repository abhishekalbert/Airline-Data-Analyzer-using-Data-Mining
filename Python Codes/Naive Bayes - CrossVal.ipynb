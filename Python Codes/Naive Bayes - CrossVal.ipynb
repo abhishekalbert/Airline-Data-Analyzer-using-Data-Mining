{
 "metadata": {
  "name": "",
  "signature": "sha256:a35e56cea94e28bd45f71ac64c46ea0e9abdb769a29c885c5a3811d3b3c85ef9"
 },
 "nbformat": 3,
 "nbformat_minor": 0,
 "worksheets": [
  {
   "cells": [
    {
     "cell_type": "code",
     "collapsed": false,
     "input": [
      "from __future__ import division\n",
      "import pickle\n",
      "import sklearn\n",
      "from sklearn.naive_bayes import *\n",
      "import pandas as pd\n",
      "import numpy as np\n",
      "from sklearn import *\n",
      "import os\n",
      "from sklearn.metrics import *\n",
      "\n",
      "# Setting up constants\n",
      "print \"Setting constants...\"\n",
      "\n",
      "TRAINING_LINE_NUMBER = 10000\n",
      "YEARS = ['2006', '2008', '2007']\n",
      "# INPUT_FILE_PATH = \"/home/dmenghani/python/\"  # Unix path\n",
      "INPUT_FILE_PATH = \"C:\\\\data\\\\airline\\\\\"  # Windows path\n",
      "# YEARS = ['2008']\n",
      "\n",
      "SKIP_FIRST_LINE = True  # To skip the first line, as its the header\n"
     ],
     "language": "python",
     "metadata": {},
     "outputs": [
      {
       "output_type": "stream",
       "stream": "stdout",
       "text": [
        "Setting constants...\n"
       ]
      }
     ],
     "prompt_number": 222
    },
    {
     "cell_type": "code",
     "collapsed": false,
     "input": [
      "\n",
      "master = []\n",
      "print \"Reading into Pandas frame...\"\n",
      "try:\n",
      "    for year in YEARS:\n",
      "        path = os.path.join(INPUT_FILE_PATH, '%d.csv' % int(year))\n",
      "        print \"\\n\", path\n",
      "        dfPart = pd.read_csv(\n",
      "            path, nrows=TRAINING_LINE_NUMBER, skiprows=0, usecols=[\n",
      "                u'Year',\n",
      "                u'Month',\n",
      "                u'DayofMonth',\n",
      "                u'DayOfWeek',\n",
      "                u'UniqueCarrier',\n",
      "                u'DepTime',\n",
      "                u'TailNum',\n",
      "                u'Origin',\n",
      "                u'Dest',\n",
      "                u'DepDelay',\n",
      "                # u'ArrDelay',\n",
      "                u'Cancelled',\n",
      "                #                 u'ArrTime',\n",
      "                #                 u'ArrDelay',\n",
      "                #                 u'Distance'\n",
      "            ])\n",
      "        print len(dfPart)\n",
      "        dfPart = dfPart[dfPart['Cancelled'] == 0]\n",
      "        dfPart['Year']=year\n",
      "        print \"Removed cancelled flights, new length - \", len(dfPart)\n",
      "        master.append(dfPart)\n",
      "        print\n",
      "except Exception as e:\n",
      "    print \"Supplemental Data Import failed\", e\n",
      "\n",
      "dfMaster = pd.concat(master, ignore_index=True)\n",
      "master = []\n",
      "dfPart = []\n",
      "\n",
      "print \"Total length - \", len(dfMaster)\n",
      "del dfMaster['Cancelled']\n",
      "\n",
      "dfMaster.fillna(0, inplace=True)\n",
      "dfMaster['Year'] = dfMaster['Year'].astype('int')\n",
      "dfMaster['Month'] = dfMaster['Month'].astype('int')\n",
      "dfMaster['DayofMonth'] = dfMaster['DayofMonth'].astype('int')\n",
      "dfMaster['DayOfWeek'] = dfMaster['DayOfWeek'].astype('int')\n",
      "dfMaster['DepTime'] = dfMaster['DepTime'].astype('int')\n",
      "# dfMaster['ArrTime'] = dfMaster['ArrTime'].astype('int')\n",
      "# dfMaster['ArrDelay'] = dfMaster['ArrDelay'].astype('int')\n",
      "dfMaster['DepDelay'] = dfMaster['DepDelay'].astype('int')\n",
      "# dfMaster['Distance'] = dfMaster['Distance'].astype('int')\n",
      "\n",
      "df = dfMaster\n",
      "\n",
      "print \"Calculating classification label...\"\n",
      "df['label'] = 0\n",
      "df.label[df.DepDelay >= 15] = 1\n",
      "df.label[df.DepDelay < 15] = 0\n",
      "\n",
      "# df['DepDelay'][df.DepDelay < 0] = 0\n",
      "del df['DepDelay']\n",
      "# df['ArrDelay'][df.ArrDelay < 0] = 0\n",
      "\n",
      "print \"Dataframe shape - \", df.shape\n",
      "print \"Columns -\", df.columns\n",
      "\n",
      "\n",
      "# In[136]:\n",
      "\n",
      "print \"Converting categorical data to numeric...\"\n",
      "for col in set(df.columns):\n",
      "# print col, train[col].dtype\n",
      "    if df[col].dtype == np.dtype('object'):\n",
      "        print \"Converting...\", col\n",
      "        if col == 'TailNum':\n",
      "            s = np.unique(df[col].values)\n",
      "            TailNum = pd.Series([x[0] for x in enumerate(s)], index=s)\n",
      "#             print TailNum\n",
      "        if col == 'UniqueCarrier':\n",
      "            s = np.unique(df[col].values)\n",
      "            UniqueCarrier = pd.Series([x[0] for x in enumerate(s)], index=s)\n",
      "#             print UniqueCarrier\n",
      "        if col == 'Dest':\n",
      "            s = np.unique(df[col].values)\n",
      "            Dest = pd.Series([x[0] for x in enumerate(s)], index=s)\n",
      "#             print Dest\n",
      "        if col == 'Origin':\n",
      "            s = np.unique(df[col].values)\n",
      "            Origin = pd.Series([x[0] for x in enumerate(s)], index=s)\n",
      "#             print Origin\n",
      "\n",
      "\n",
      "def getTailNum(inTailNum):\n",
      "#     print \"In...\",type(inTailNum)\n",
      "    out = []\n",
      "    for x, y in inTailNum.iteritems():\n",
      "#         print \"x,y, out\",x,y,TailNum.get_value(y)\n",
      "        out.append(TailNum.get_value(y) + 1)\n",
      "#     print \"final out\", out\n",
      "    return out\n",
      "\n",
      "\n",
      "def getDest(inDest):\n",
      "    out = []\n",
      "    for x, y in inDest.iteritems():\n",
      "        out.append(Dest.get_value(y) + 1)\n",
      "    return out\n",
      "\n",
      "\n",
      "def getOrigin(inOrign):\n",
      "    out = []\n",
      "    for x, y in inOrign.iteritems():\n",
      "        out.append(Origin.get_value(y) + 1)\n",
      "    return out\n",
      "\n",
      "\n",
      "def getCarrier(inCarrier):\n",
      "    out = []\n",
      "    for x, y in inCarrier.iteritems():\n",
      "        out.append(UniqueCarrier.get_value(y) + 1)\n",
      "    return out\n",
      "\n",
      "df['TailNum'] = getTailNum(df['TailNum'])\n",
      "print \"TailNum completed.\"\n",
      "\n",
      "df['UniqueCarrier'] = getCarrier(df['UniqueCarrier'])\n",
      "print \"UniqueCarrier completed.\"\n",
      "\n",
      "df['Dest'] = getDest(df['Dest'])\n",
      "print \"Dest completed.\"\n",
      "\n",
      "df['Origin'] = getOrigin(df['Origin'])\n",
      "print \"Origin completed.\"\n",
      "\n",
      "print \"Conversion to numeric completed.\""
     ],
     "language": "python",
     "metadata": {},
     "outputs": [
      {
       "output_type": "stream",
       "stream": "stdout",
       "text": [
        "Reading into Pandas frame...\n",
        "\n",
        "C:\\data\\airline\\2006.csv\n",
        "10000\n",
        "Removed cancelled flights, new length - "
       ]
      },
      {
       "output_type": "stream",
       "stream": "stdout",
       "text": [
        " 9804\n",
        "\n",
        "\n",
        "C:\\data\\airline\\2008.csv\n",
        "10000\n",
        "Removed cancelled flights, new length - "
       ]
      },
      {
       "output_type": "stream",
       "stream": "stdout",
       "text": [
        " 9837\n",
        "\n",
        "\n",
        "C:\\data\\airline\\2007.csv\n",
        "10000\n",
        "Removed cancelled flights, new length - "
       ]
      },
      {
       "output_type": "stream",
       "stream": "stdout",
       "text": [
        " 9893\n",
        "\n",
        "Total length -  29534\n",
        "Calculating classification label...\n",
        "Dataframe shape - "
       ]
      },
      {
       "output_type": "stream",
       "stream": "stdout",
       "text": [
        " (29534, 10)\n",
        "Columns - Index([u'Year', u'Month', u'DayofMonth', u'DayOfWeek', u'DepTime', u'UniqueCarrier', u'TailNum', u'Origin', u'Dest', u'label'], dtype='object')\n",
        "Converting categorical data to numeric...\n",
        "Converting... Origin\n",
        "Converting... UniqueCarrier\n",
        "Converting... Dest\n",
        "Converting... TailNum\n",
        "TailNum completed."
       ]
      },
      {
       "output_type": "stream",
       "stream": "stdout",
       "text": [
        "\n",
        "UniqueCarrier completed."
       ]
      },
      {
       "output_type": "stream",
       "stream": "stdout",
       "text": [
        "\n",
        "Dest completed."
       ]
      },
      {
       "output_type": "stream",
       "stream": "stdout",
       "text": [
        "\n",
        "Origin completed."
       ]
      },
      {
       "output_type": "stream",
       "stream": "stdout",
       "text": [
        "\n",
        "Conversion to numeric completed.\n"
       ]
      }
     ],
     "prompt_number": 223
    },
    {
     "cell_type": "code",
     "collapsed": false,
     "input": [
      "df.head()"
     ],
     "language": "python",
     "metadata": {},
     "outputs": [
      {
       "html": [
        "<div style=\"max-height:1000px;max-width:1500px;overflow:auto;\">\n",
        "<table border=\"1\" class=\"dataframe\">\n",
        "  <thead>\n",
        "    <tr style=\"text-align: right;\">\n",
        "      <th></th>\n",
        "      <th>Year</th>\n",
        "      <th>Month</th>\n",
        "      <th>DayofMonth</th>\n",
        "      <th>DayOfWeek</th>\n",
        "      <th>DepTime</th>\n",
        "      <th>UniqueCarrier</th>\n",
        "      <th>TailNum</th>\n",
        "      <th>Origin</th>\n",
        "      <th>Dest</th>\n",
        "      <th>label</th>\n",
        "    </tr>\n",
        "  </thead>\n",
        "  <tbody>\n",
        "    <tr>\n",
        "      <th>0</th>\n",
        "      <td> 2006</td>\n",
        "      <td> 1</td>\n",
        "      <td> 11</td>\n",
        "      <td> 3</td>\n",
        "      <td>  743</td>\n",
        "      <td> 1</td>\n",
        "      <td>  835</td>\n",
        "      <td> 6</td>\n",
        "      <td> 69</td>\n",
        "      <td> 0</td>\n",
        "    </tr>\n",
        "    <tr>\n",
        "      <th>1</th>\n",
        "      <td> 2006</td>\n",
        "      <td> 1</td>\n",
        "      <td> 11</td>\n",
        "      <td> 3</td>\n",
        "      <td> 1053</td>\n",
        "      <td> 1</td>\n",
        "      <td> 1186</td>\n",
        "      <td> 6</td>\n",
        "      <td> 69</td>\n",
        "      <td> 0</td>\n",
        "    </tr>\n",
        "    <tr>\n",
        "      <th>2</th>\n",
        "      <td> 2006</td>\n",
        "      <td> 1</td>\n",
        "      <td> 11</td>\n",
        "      <td> 3</td>\n",
        "      <td> 1915</td>\n",
        "      <td> 1</td>\n",
        "      <td>  719</td>\n",
        "      <td> 6</td>\n",
        "      <td> 69</td>\n",
        "      <td> 0</td>\n",
        "    </tr>\n",
        "    <tr>\n",
        "      <th>3</th>\n",
        "      <td> 2006</td>\n",
        "      <td> 1</td>\n",
        "      <td> 11</td>\n",
        "      <td> 3</td>\n",
        "      <td> 1753</td>\n",
        "      <td> 1</td>\n",
        "      <td>  247</td>\n",
        "      <td> 7</td>\n",
        "      <td> 69</td>\n",
        "      <td> 0</td>\n",
        "    </tr>\n",
        "    <tr>\n",
        "      <th>4</th>\n",
        "      <td> 2006</td>\n",
        "      <td> 1</td>\n",
        "      <td> 11</td>\n",
        "      <td> 3</td>\n",
        "      <td>  824</td>\n",
        "      <td> 1</td>\n",
        "      <td>  240</td>\n",
        "      <td> 7</td>\n",
        "      <td> 69</td>\n",
        "      <td> 0</td>\n",
        "    </tr>\n",
        "  </tbody>\n",
        "</table>\n",
        "<p>5 rows \u00d7 10 columns</p>\n",
        "</div>"
       ],
       "metadata": {},
       "output_type": "pyout",
       "prompt_number": 209,
       "text": [
        "   Year  Month  DayofMonth  DayOfWeek  DepTime  UniqueCarrier  TailNum  \\\n",
        "0  2006      1          11          3      743              1      835   \n",
        "1  2006      1          11          3     1053              1     1186   \n",
        "2  2006      1          11          3     1915              1      719   \n",
        "3  2006      1          11          3     1753              1      247   \n",
        "4  2006      1          11          3      824              1      240   \n",
        "\n",
        "   Origin  Dest  label  \n",
        "0       6    69      0  \n",
        "1       6    69      0  \n",
        "2       6    69      0  \n",
        "3       7    69      0  \n",
        "4       7    69      0  \n",
        "\n",
        "[5 rows x 10 columns]"
       ]
      }
     ],
     "prompt_number": 209
    },
    {
     "cell_type": "code",
     "collapsed": false,
     "input": [
      "import pickle\n",
      "def createPickle(data,filename):\n",
      "    with open(filename, 'wb') as f:\n",
      "            pickle.dump(data, f) \n",
      "    print \"Pickled\", filename"
     ],
     "language": "python",
     "metadata": {},
     "outputs": [],
     "prompt_number": 210
    },
    {
     "cell_type": "code",
     "collapsed": false,
     "input": [
      "print \"Begin cross validation...\"\n",
      "\n",
      "features = df.columns[0:9]\n",
      "target_names = ['Not Delayed', 'Delayed']\n",
      "accuracy = {}\n",
      "results = {}\n",
      "matrix = {}\n",
      "prec = {}\n",
      "recall = {}\n",
      "\n",
      "for year in YEARS:\n",
      "    print \"Testing on - \", year\n",
      "    train = df[df['Year'] != int(year)]\n",
      "    test = df[df['Year'] == int(year)]\n",
      "    print len(train), len(test)\n",
      "    rows = np.random.choice(np.random.permutation(\n",
      "        test.index.values), len(test) // 4, replace=False)\n",
      "    # print rows\n",
      "    sampled_test = test.ix[rows]\n",
      "    trainTargets = np.array(train['label']).astype(int)\n",
      "    testTargets = np.array(sampled_test['label']).astype(int)\n",
      "    print \"Train length - \", len(train), \"Test length -  \", len(sampled_test)\n",
      "#     print train['Year']\n",
      "#     print test['Year']\n",
      "\n",
      "    print \"Model fitting and prediction started...\"\n",
      "    gnb = gnb=tree.DecisionTreeClassifier()\n",
      "    y_gnb = gnb.fit(train[features], trainTargets).predict(\n",
      "        sampled_test[features])\n",
      "    sampled_test['pred_label'] = y_gnb\n",
      "    # y_prob = gnb.fit(\n",
      "    #     train[features], trainTargets).predict_proba(test[features])\n",
      "    # print y_prob\n",
      "    # test['pred_prob'] = y_prob[1][1]\n",
      "    print \"Classification completed.\"\n",
      "    sampled_test.to_csv(INPUT_FILE_PATH + \"\\dfTest\" + year + \".csv\")\n",
      "\n",
      "    print \"\\nCalculating metrcs...\"\n",
      "    accuracy[int(year)] = accuracy_score(sampled_test['label'], y_gnb)\n",
      "    print \"Accuracy score - \", accuracy[int(year)]\n",
      "    prec[int(year)] = precision_score(\n",
      "        sampled_test['label'], y_gnb, average='micro')\n",
      "    print \"Precision Score - \", prec[int(year)]\n",
      "    recall[int(year)] = recall_score(\n",
      "        sampled_test['label'], y_gnb, average='micro')\n",
      "    print \"Recall Score - \", recall[int(year)]\n",
      "    print \"Confusion matrix\"\n",
      "    matrix[int(year)] = metrics.confusion_matrix(\n",
      "        sampled_test['label'], y_gnb)\n",
      "    print matrix[int(year)]\n",
      "    # results[int(year)] = precision_recall_fscore_support(\n",
      "    #     sampled_test['label'], y_gnb, average='micro')\n",
      "    # print \"Precision, recall, F-Score, Support - \", results[int(year)]\n",
      "    # print \"Classification report\"\n",
      "    # print classification_report(np.array(sampled_test['label']), y_gnb,\n",
      "    # target_names=target_names)\n",
      "    print\n",
      "#     train = []\n",
      "#     test = []\n",
      "\n",
      "print \"Accuracy\\n\", accuracy\n",
      "print \"\\nPrecision\\n\", prec\n",
      "print \"\\nRecall\\n\", recall\n",
      "# print \"\\nMetrics\\n\", results\n",
      "print \"\\nMatrix\\n\", matrix\n",
      "\n",
      "print \"\\nMean Cross validation Precision score\", np.mean(pd.Series(prec))\n",
      "print \"\\nMean Cross validation Recall score\", np.mean(pd.Series(recall))\n",
      "print \"\\nMean Cross validation Accuracy score\", np.mean(pd.Series(accuracy))\n",
      "\n",
      "# print \"\\nPickling stuff...\"\n",
      "# createPickle(accuracy, 'accuracy.pkl')\n",
      "# createPickle(prec, 'prec.pkl')\n",
      "# createPickle(results, 'results.pkl')\n",
      "# createPickle(matrix, 'matrix.pkl')\n",
      "# createPickle(Dest, 'Dest.pkl')\n",
      "# createPickle(Origin, 'Origin.pkl')\n",
      "# createPickle(UniqueCarrier, 'UniqueCarrier.pkl')\n",
      "# createPickle(TailNum, 'TailNum.pkl')\n"
     ],
     "language": "python",
     "metadata": {},
     "outputs": [
      {
       "output_type": "stream",
       "stream": "stdout",
       "text": [
        "Begin cross validation...\n",
        "Testing on -  2006\n",
        "19730 9804\n",
        "Train length -  19730 Test length -   2451\n",
        "Model fitting and prediction started...\n",
        "Classification completed."
       ]
      },
      {
       "output_type": "stream",
       "stream": "stdout",
       "text": [
        "\n",
        "\n",
        "Calculating metrcs...\n",
        "Accuracy score -  0.670746634027\n",
        "Precision Score -  0.220264317181\n",
        "Recall Score -  0.352112676056\n",
        "Confusion matrix\n",
        "[[1494  531]\n",
        " [ 276  150]]\n",
        "\n",
        "Testing on -  2008\n",
        "19697 9837\n",
        "Train length -  19697 Test length -   2459\n",
        "Model fitting and prediction started...\n",
        "Classification completed."
       ]
      },
      {
       "output_type": "stream",
       "stream": "stdout",
       "text": [
        "\n",
        "\n",
        "Calculating metrcs...\n",
        "Accuracy score -  0.611224074827\n",
        "Precision Score -  0.531830238727\n",
        "Recall Score -  0.399402390438\n",
        "Confusion matrix\n",
        "[[1102  353]\n",
        " [ 603  401]]\n",
        "\n",
        "Testing on -  2007\n",
        "19641 9893\n",
        "Train length -  19641 Test length -   2473\n",
        "Model fitting and prediction started...\n",
        "Classification completed."
       ]
      },
      {
       "output_type": "stream",
       "stream": "stdout",
       "text": [
        "\n",
        "\n",
        "Calculating metrcs...\n",
        "Accuracy score -  0.599272139102\n",
        "Precision Score -  0.35347985348\n",
        "Recall Score -  0.575260804769\n",
        "Confusion matrix\n",
        "[[1096  706]\n",
        " [ 285  386]]\n",
        "\n",
        "Accuracy\n",
        "{2008: 0.61122407482716556, 2006: 0.6707466340269278, 2007: 0.59927213910230492}\n",
        "\n",
        "Precision\n",
        "{2008: 0.53183023872679047, 2006: 0.22026431718061673, 2007: 0.3534798534798535}\n",
        "\n",
        "Recall\n",
        "{2008: 0.39940239043824699, 2006: 0.352112676056338, 2007: 0.57526080476900154}\n",
        "\n",
        "Matrix\n",
        "{2008: array([[1102,  353],\n",
        "       [ 603,  401]]), 2006: array([[1494,  531],\n",
        "       [ 276,  150]]), 2007: array([[1096,  706],\n",
        "       [ 285,  386]])}\n",
        "\n",
        "Mean Cross validation Precision score 0.368524803129\n",
        "\n",
        "Mean Cross validation Recall score 0.442258623755\n",
        "\n",
        "Mean Cross validation Accuracy score 0.627080949319\n"
       ]
      }
     ],
     "prompt_number": 211
    },
    {
     "cell_type": "code",
     "collapsed": false,
     "input": [
      "features"
     ],
     "language": "python",
     "metadata": {},
     "outputs": [
      {
       "metadata": {},
       "output_type": "pyout",
       "prompt_number": 212,
       "text": [
        "Index([u'Year', u'Month', u'DayofMonth', u'DayOfWeek', u'DepTime', u'UniqueCarrier', u'TailNum', u'Origin', u'Dest'], dtype='object')"
       ]
      }
     ],
     "prompt_number": 212
    },
    {
     "cell_type": "code",
     "collapsed": false,
     "input": [
      "print len(dfMaster)\n",
      "np.random.choice(np.random.permutation(dfMaster.index.values),size=len(dfMaster)//4,replace=False)"
     ],
     "language": "python",
     "metadata": {},
     "outputs": [
      {
       "output_type": "stream",
       "stream": "stdout",
       "text": [
        "29534\n"
       ]
      },
      {
       "metadata": {},
       "output_type": "pyout",
       "prompt_number": 213,
       "text": [
        "array([27187,  9139, 25744, ..., 13670, 13799,  7066], dtype=int64)"
       ]
      }
     ],
     "prompt_number": 213
    },
    {
     "cell_type": "code",
     "collapsed": false,
     "input": [
      "print np.sum(dfMaster['label'])/len(dfMaster['label'])"
     ],
     "language": "python",
     "metadata": {},
     "outputs": [
      {
       "output_type": "stream",
       "stream": "stdout",
       "text": [
        "0.279305207557\n"
       ]
      }
     ],
     "prompt_number": 214
    },
    {
     "cell_type": "code",
     "collapsed": false,
     "input": [
      "# X_train, X_test, y_train, y_test = cross_validation.train_test_split(iris.data, iris.target, test_size=0.4, random_state=0)\n",
      "train[features]\n",
      "X_train, X_test, y_train, y_test = cross_validation.train_test_split(train[features], trainTargets, test_size=0.4, random_state=0)"
     ],
     "language": "python",
     "metadata": {},
     "outputs": [],
     "prompt_number": 215
    },
    {
     "cell_type": "code",
     "collapsed": false,
     "input": [
      "print cross_validation.cross_val_score(GaussianNB(), train[features], trainTargets, cv=8,scoring='accuracy')\n",
      "print cross_validation.cross_val_score(tree.DecisionTreeClassifier(), train[features], trainTargets, cv=8)"
     ],
     "language": "python",
     "metadata": {},
     "outputs": [
      {
       "output_type": "stream",
       "stream": "stdout",
       "text": [
        "[ 0.71986971  0.70835031  0.70427699  0.7197556   0.69898167  0.70427699\n",
        "  0.71201629  0.70020367]\n",
        "[ 0.73900651  0.74052953  0.73319756  0.75478615  0.74419552  0.74826884\n",
        "  0.74378819  0.74663951]"
       ]
      },
      {
       "output_type": "stream",
       "stream": "stdout",
       "text": [
        "\n"
       ]
      }
     ],
     "prompt_number": 216
    },
    {
     "cell_type": "code",
     "collapsed": false,
     "input": [
      "print np.unique(df['Year'])"
     ],
     "language": "python",
     "metadata": {},
     "outputs": [
      {
       "output_type": "stream",
       "stream": "stdout",
       "text": [
        "[2006 2007 2008]\n"
       ]
      }
     ],
     "prompt_number": 217
    },
    {
     "cell_type": "code",
     "collapsed": false,
     "input": [
      "li=[2003,2007]"
     ],
     "language": "python",
     "metadata": {},
     "outputs": [],
     "prompt_number": 237
    },
    {
     "cell_type": "code",
     "collapsed": false,
     "input": [
      "df = df[df['Year'].isin(li)]"
     ],
     "language": "python",
     "metadata": {},
     "outputs": [],
     "prompt_number": 238
    },
    {
     "cell_type": "code",
     "collapsed": false,
     "input": [
      "print np.unique(df['Year'])"
     ],
     "language": "python",
     "metadata": {},
     "outputs": [
      {
       "output_type": "stream",
       "stream": "stdout",
       "text": [
        "[2007]\n"
       ]
      }
     ],
     "prompt_number": 239
    }
   ],
   "metadata": {}
  }
 ]
}