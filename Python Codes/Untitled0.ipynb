{
 "metadata": {
  "name": "",
  "signature": "sha256:44f7be7f1af03eb634d779b3e3fc1b7473ad8af24b380e9e53f9a15ad5274aaf"
 },
 "nbformat": 3,
 "nbformat_minor": 0,
 "worksheets": [
  {
   "cells": [
    {
     "cell_type": "code",
     "collapsed": false,
     "input": [
      "from __future__ import division\n",
      "import numpy as np\n",
      "import pandas as pd\n",
      "import sklearn\n",
      "from sklearn.naive_bayes import *\n",
      "from sklearn.metrics import *\n",
      "import os\n",
      "import cPickle\n",
      "import sys\n",
      "import pandas as pd\n",
      "import numpy as np\n",
      "from optparse import OptionParser\n",
      "from sklearn import metrics, preprocessing\n",
      "from sklearn import svm, naive_bayes, neighbors, tree\n",
      "from sklearn.ensemble import AdaBoostClassifier\n",
      "from sklearn import cross_validation\n",
      "from sklearn.ensemble import RandomForestClassifier  # random forest\n",
      "from sklearn.svm import SVC  # support vector machine classifier\n",
      "# hyperparameter grid search to find best model parameters\n",
      "from sklearn.grid_search import GridSearchCV\n",
      "from sklearn import preprocessing  # preprocess string labels into numerics\n",
      "from sklearn import *\n",
      "from sklearn.metrics import precision_recall_fscore_support\n",
      "from sklearn.metrics import classification_report\n",
      "\n",
      "\n",
      "# In[135]:\n",
      "\n",
      "# Setting up constants\n",
      "print \"Setting constants...\"\n",
      "\n",
      "TRAINING_LINE_NUMBER = 500000\n",
      "YEARS = ['2006', '2008', '2007']\n",
      "# INPUT_FILE_PATH = \"/home/dmenghani/python/\"  # Unix path\n",
      "INPUT_FILE_PATH = \"C:\\\\data\\\\airline\\\\\"  # Windows path\n",
      "# YEARS = ['2008']\n",
      "\n",
      "SKIP_FIRST_LINE = True  # To skip the first line, as its the header\n",
      "\n",
      "master = []\n",
      "print \"Reading into Pandas frame...\"\n",
      "try:\n",
      "    for year in YEARS:\n",
      "        path = os.path.join(INPUT_FILE_PATH, '%d.csv' % int(year))\n",
      "        print \"\\n\", path\n",
      "        dfPart = pd.read_csv(\n",
      "            path, nrows=TRAINING_LINE_NUMBER, skiprows=0, usecols=[\n",
      "                u'Year',\n",
      "                u'Month',\n",
      "                u'DayofMonth',\n",
      "                u'DayOfWeek',\n",
      "                u'UniqueCarrier',\n",
      "                u'DepTime',\n",
      "                u'TailNum',\n",
      "                u'Origin',\n",
      "                u'Dest',\n",
      "                u'DepDelay',\n",
      "                # u'ArrDelay',\n",
      "                u'Cancelled',\n",
      "                #                 u'ArrTime',\n",
      "                #                 u'ArrDelay',\n",
      "                #                 u'Distance'\n",
      "            ])\n",
      "        print len(dfPart)\n",
      "        dfPart = dfPart[dfPart['Cancelled'] == 0]\n",
      "        print \"Removed cancelled flights, new length - \", len(dfPart)\n",
      "        master.append(dfPart)\n",
      "        print\n",
      "except Exception as e:\n",
      "    print \"Supplemental Data Import failed\", e\n",
      "\n",
      "dfMaster = pd.concat(master, ignore_index=True)\n",
      "master = []\n",
      "dfPart = []\n",
      "\n",
      "print \"Total length - \", len(dfMaster)\n",
      "del dfMaster['Cancelled']\n",
      "\n",
      "dfMaster.fillna(0, inplace=True)\n",
      "dfMaster['Year'] = dfMaster['Year'].astype('int')\n",
      "dfMaster['Month'] = dfMaster['Month'].astype('int')\n",
      "dfMaster['DayofMonth'] = dfMaster['DayofMonth'].astype('int')\n",
      "dfMaster['DayOfWeek'] = dfMaster['DayOfWeek'].astype('int')\n",
      "dfMaster['DepTime'] = dfMaster['DepTime'].astype('int')\n",
      "# dfMaster['ArrTime'] = dfMaster['ArrTime'].astype('int')\n",
      "# dfMaster['ArrDelay'] = dfMaster['ArrDelay'].astype('int')\n",
      "dfMaster['DepDelay'] = dfMaster['DepDelay'].astype('int')\n",
      "# dfMaster['Distance'] = dfMaster['Distance'].astype('int')\n",
      "\n",
      "df = dfMaster\n",
      "\n",
      "print \"Calculating classification label...\"\n",
      "df['label'] = 0\n",
      "df.label[df.DepDelay >= 15] = 1\n",
      "df.label[df.DepDelay < 15] = 0\n",
      "\n",
      "# df['DepDelay'][df.DepDelay < 0] = 0\n",
      "del df['DepDelay']\n",
      "# df['ArrDelay'][df.ArrDelay < 0] = 0\n",
      "\n",
      "print \"Dataframe shape - \", df.shape\n",
      "print \"Columns -\", df.columns\n",
      "\n",
      "\n",
      "# In[136]:\n",
      "\n",
      "print \"Converting categorical data to numeric...\"\n",
      "for col in set(df.columns):\n",
      "# print col, train[col].dtype\n",
      "    if df[col].dtype == np.dtype('object'):\n",
      "        print \"Converting...\", col\n",
      "        if col == 'TailNum':\n",
      "            s = np.unique(df[col].values)\n",
      "            TailNum = pd.Series([x[0] for x in enumerate(s)], index=s)\n",
      "#             print TailNum\n",
      "        if col == 'UniqueCarrier':\n",
      "            s = np.unique(df[col].values)\n",
      "            UniqueCarrier = pd.Series([x[0] for x in enumerate(s)], index=s)\n",
      "#             print UniqueCarrier\n",
      "        if col == 'Dest':\n",
      "            s = np.unique(df[col].values)\n",
      "            Dest = pd.Series([x[0] for x in enumerate(s)], index=s)\n",
      "#             print Dest\n",
      "        if col == 'Origin':\n",
      "            s = np.unique(df[col].values)\n",
      "            Origin = pd.Series([x[0] for x in enumerate(s)], index=s)\n",
      "#             print Origin\n",
      "\n",
      "\n",
      "def getTailNum(inTailNum):\n",
      "#     print \"In...\",type(inTailNum)\n",
      "    out = []\n",
      "    for x, y in inTailNum.iteritems():\n",
      "#         print \"x,y, out\",x,y,TailNum.get_value(y)\n",
      "        out.append(TailNum.get_value(y) + 1)\n",
      "#     print \"final out\", out\n",
      "    return out\n",
      "\n",
      "\n",
      "def getDest(inDest):\n",
      "    out = []\n",
      "    for x, y in inDest.iteritems():\n",
      "        out.append(Dest.get_value(y) + 1)\n",
      "    return out\n",
      "\n",
      "\n",
      "def getOrigin(inOrign):\n",
      "    out = []\n",
      "    for x, y in inOrign.iteritems():\n",
      "        out.append(Origin.get_value(y) + 1)\n",
      "    return out\n",
      "\n",
      "\n",
      "def getCarrier(inCarrier):\n",
      "    out = []\n",
      "    for x, y in inCarrier.iteritems():\n",
      "        out.append(UniqueCarrier.get_value(y) + 1)\n",
      "    return out\n",
      "\n",
      "df['TailNum'] = getTailNum(df['TailNum'])\n",
      "print \"TailNum completed.\"\n",
      "\n",
      "df['UniqueCarrier'] = getCarrier(df['UniqueCarrier'])\n",
      "print \"UniqueCarrier completed.\"\n",
      "\n",
      "df['Dest'] = getDest(df['Dest'])\n",
      "print \"Dest completed.\"\n",
      "\n",
      "df['Origin'] = getOrigin(df['Origin'])\n",
      "print \"Origin completed.\"\n",
      "\n",
      "print \"Conversion to numeric completed.\"\n",
      "\n",
      "# print \"Pickling converted data...\"\n",
      "# df.to_pickle(INPUT_FILE_PATH + \"\\df.pkl\")\n"
     ],
     "language": "python",
     "metadata": {},
     "outputs": [
      {
       "output_type": "stream",
       "stream": "stdout",
       "text": [
        "Setting constants...\n",
        "Reading into Pandas frame...\n",
        "\n",
        "C:\\data\\airline\\2006.csv\n",
        "500000"
       ]
      },
      {
       "output_type": "stream",
       "stream": "stdout",
       "text": [
        "\n",
        "Removed cancelled flights, new length - "
       ]
      },
      {
       "output_type": "stream",
       "stream": "stdout",
       "text": [
        " 491158\n",
        "\n",
        "\n",
        "C:\\data\\airline\\2008.csv\n",
        "500000"
       ]
      },
      {
       "output_type": "stream",
       "stream": "stdout",
       "text": [
        "\n",
        "Removed cancelled flights, new length - "
       ]
      },
      {
       "output_type": "stream",
       "stream": "stdout",
       "text": [
        " 484708\n",
        "\n",
        "\n",
        "C:\\data\\airline\\2007.csv\n",
        "500000"
       ]
      },
      {
       "output_type": "stream",
       "stream": "stdout",
       "text": [
        "\n",
        "Removed cancelled flights, new length - "
       ]
      },
      {
       "output_type": "stream",
       "stream": "stdout",
       "text": [
        " 487243\n",
        "\n",
        "Total length - "
       ]
      },
      {
       "output_type": "stream",
       "stream": "stdout",
       "text": [
        " 1463109\n",
        "Calculating classification label..."
       ]
      },
      {
       "output_type": "stream",
       "stream": "stdout",
       "text": [
        "\n",
        "Dataframe shape -  (1463109, 10)\n",
        "Columns - Index([u'Year', u'Month', u'DayofMonth', u'DayOfWeek', u'DepTime', u'UniqueCarrier', u'TailNum', u'Origin', u'Dest', u'label'], dtype='object')\n",
        "Converting categorical data to numeric...\n",
        "Converting..."
       ]
      },
      {
       "output_type": "stream",
       "stream": "stdout",
       "text": [
        " Origin\n",
        "Converting..."
       ]
      },
      {
       "output_type": "stream",
       "stream": "stdout",
       "text": [
        " UniqueCarrier\n",
        "Converting..."
       ]
      },
      {
       "output_type": "stream",
       "stream": "stdout",
       "text": [
        " Dest\n",
        "Converting..."
       ]
      },
      {
       "output_type": "stream",
       "stream": "stdout",
       "text": [
        " TailNum\n",
        "TailNum completed."
       ]
      },
      {
       "output_type": "stream",
       "stream": "stdout",
       "text": [
        "\n",
        "UniqueCarrier completed."
       ]
      },
      {
       "output_type": "stream",
       "stream": "stdout",
       "text": [
        "\n",
        "Dest completed."
       ]
      },
      {
       "output_type": "stream",
       "stream": "stdout",
       "text": [
        "\n",
        "Origin completed."
       ]
      },
      {
       "output_type": "stream",
       "stream": "stdout",
       "text": [
        "\n",
        "Conversion to numeric completed.\n"
       ]
      }
     ],
     "prompt_number": 13
    },
    {
     "cell_type": "code",
     "collapsed": false,
     "input": [
      "\n",
      "print \"Begin classification...75% training, 25% testing, randomly chosen\"\n",
      "\n",
      "# add columns to your data frame\n",
      "df['is_train'] = np.random.uniform(0, 1, len(df)) <= 0.75\n",
      "\n",
      "# define training and test sets\n",
      "train = df[df['is_train'] == True]\n",
      "test = df[df['is_train'] == False]\n",
      "trainTargets = np.array(train['label']).astype(int)\n",
      "testTargets = np.array(test['label']).astype(int)\n",
      "features = df.columns[0:9]\n",
      "print \"Features - \",features\n",
      "print \"Model fitting and prediction started...\"\n",
      "gnb = GaussianNB()\n",
      "\n",
      "# train model\n",
      "y_gnb = gnb.fit(train[features], trainTargets).predict(test[features])\n",
      "y_prob = gnb.fit(train[features], trainTargets).predict_proba(test[features])\n",
      "\n",
      "print \"Classification completed.\""
     ],
     "language": "python",
     "metadata": {},
     "outputs": [
      {
       "output_type": "stream",
       "stream": "stdout",
       "text": [
        "Begin classification...75% training, 25% testing, randomly chosen\n",
        "Features - "
       ]
      },
      {
       "output_type": "stream",
       "stream": "stdout",
       "text": [
        " Index([u'Year', u'Month', u'DayofMonth', u'DayOfWeek', u'DepTime', u'UniqueCarrier', u'TailNum', u'Origin', u'Dest'], dtype='object')\n",
        "Model fitting and prediction started...\n",
        "Classification completed."
       ]
      },
      {
       "output_type": "stream",
       "stream": "stdout",
       "text": [
        "\n",
        "Calculating metrcs...\n",
        "Accuracy -  0.798698653544\n",
        "Confusion metrics\n",
        "[[291966    106]\n",
        " [ 73525    178]]"
       ]
      },
      {
       "output_type": "stream",
       "stream": "stdout",
       "text": [
        "\n",
        "Precision -  "
       ]
      },
      {
       "output_type": "stream",
       "stream": "stdout",
       "text": [
        "0.62676056338\n",
        "Recall -  "
       ]
      },
      {
       "output_type": "stream",
       "stream": "stdout",
       "text": [
        "0.00241509843561\n"
       ]
      }
     ],
     "prompt_number": 14
    },
    {
     "cell_type": "code",
     "collapsed": false,
     "input": [
      "print \"Calculating metrcs...\"\n",
      "print \"Accuracy - \", accuracy_score(test['label'], y_gnb)\n",
      "print \"Confusion metrics\\n\", metrics.confusion_matrix(test['label'], y_gnb,labels=(0,1))\n",
      "print \"Precision - \", precision_score(test['label'], y_gnb)\n",
      "print \"Recall - \", recall_score(test['label'], y_gnb)\n"
     ],
     "language": "python",
     "metadata": {},
     "outputs": [
      {
       "output_type": "stream",
       "stream": "stdout",
       "text": [
        "Calculating metrcs...\n",
        "Accuracy -  0.798698653544\n",
        "Confusion metrics\n",
        "[[291966    106]\n",
        " [ 73525    178]]"
       ]
      },
      {
       "output_type": "stream",
       "stream": "stdout",
       "text": [
        "\n",
        "Precision -  "
       ]
      },
      {
       "output_type": "stream",
       "stream": "stdout",
       "text": [
        "0.62676056338\n",
        "Recall -  "
       ]
      },
      {
       "output_type": "stream",
       "stream": "stdout",
       "text": [
        "0.00241509843561\n"
       ]
      }
     ],
     "prompt_number": 25
    },
    {
     "cell_type": "code",
     "collapsed": false,
     "input": [
      "testSFO = test[test['Origin'] == Origin['SFO']]\n",
      "print len(testSFO)\n",
      "\n",
      "testOAK = test[test['Origin'] == Origin['OAK']]\n",
      "print len(testOAK)\n"
     ],
     "language": "python",
     "metadata": {},
     "outputs": [
      {
       "output_type": "stream",
       "stream": "stdout",
       "text": [
        "3563\n",
        "40\n"
       ]
      }
     ],
     "prompt_number": 22
    },
    {
     "cell_type": "code",
     "collapsed": false,
     "input": [
      " np.random.randint(2000, size=10)\n",
      "    "
     ],
     "language": "python",
     "metadata": {},
     "outputs": [
      {
       "metadata": {},
       "output_type": "pyout",
       "prompt_number": 27,
       "text": [
        "array([ 437, 1815,  742,  148, 1399, 1171,  205, 1480,  838, 1437])"
       ]
      }
     ],
     "prompt_number": 27
    }
   ],
   "metadata": {}
  }
 ]
}